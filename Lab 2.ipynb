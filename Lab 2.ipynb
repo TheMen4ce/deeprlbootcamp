{
 "cells": [
  {
   "cell_type": "markdown",
   "metadata": {},
   "source": [
    "# Dennis Briner 06.11.2021"
   ]
  },
  {
   "cell_type": "code",
   "execution_count": 1,
   "metadata": {},
   "outputs": [],
   "source": [
    "\"\"\"\n",
    "This project was developed by Peter Chen, Rocky Duan, Pieter Abbeel for the Berkeley Deep RL Bootcamp, August 2017.\n",
    "Bootcamp website with slides and lecture videos: https://sites.google.com/view/deep-rl-bootcamp/.\n",
    "\n",
    "Code adapted from Stanford CS231N materials: http://cs231n.stanford.edu/\n",
    "\"\"\"\n",
    "\n",
    "\n",
    "# note to properly run this lab, you should execute all code blocks sequentially\n",
    "import chainer\n",
    "import chainer.functions as F\n",
    "import chainer.links as L\n",
    "from chainer import training\n",
    "from chainer.training import extensions\n",
    "\n",
    "from collections import namedtuple, defaultdict, deque\n",
    "\n",
    "import numpy as np\n",
    "\n",
    "%matplotlib inline\n",
    "\n",
    "import matplotlib\n",
    "import matplotlib.pyplot as plt"
   ]
  },
  {
   "cell_type": "markdown",
   "metadata": {},
   "source": [
    "## Introduction to Chainer\n",
    "\n",
    "Chainer can be understood as Numpy plus the ability to record the computation graph of numerical operations to enable Automatic Differentiation. (Chainer actually also offers many other things; for example, a Numpy equivalent library that runs on GPU, but we will ignore them for now)"
   ]
  },
  {
   "cell_type": "markdown",
   "metadata": {},
   "source": [
    "Let's illustrate how Chainer works by a simple 1D regression task.\n",
    "\n",
    "Suppose we have observations from the following model $y = w x + b + \\epsilon$ where $\\epsilon \\sim \\mathcal{N}(0, 0.1)$ and the task is to estimate the linear model parameters $w, b$ from data."
   ]
  },
  {
   "cell_type": "code",
   "execution_count": 2,
   "metadata": {},
   "outputs": [
    {
     "data": {
      "image/png": "[encoded data removed]",
      "text/plain": [
       "<Figure size 432x288 with 1 Axes>"
      ]
     },
     "metadata": {
      "needs_background": "light"
     },
     "output_type": "display_data"
    }
   ],
   "source": [
    "# first generate some observations\n",
    "true_a = 1.3\n",
    "true_b = 0.4\n",
    "data_x = (np.arange(100) / 99.0 - .5).astype(np.float32) # Chainer assumes all the cpu computation is done in float32\n",
    "data_y = (data_x * true_a + true_b + np.random.randn(*data_x.shape) * 0.1).astype(np.float32)\n",
    "_ = plt.scatter(data_x, data_y, c='b')"
   ]
  },
  {
   "cell_type": "markdown",
   "metadata": {},
   "source": [
    "Chainer provides an abstraction called `Link` that describe some computation and keeps track of parameters for it. For instance, a `Linear` link describes a linear map on input and keeps track of `w` and bias `b`."
   ]
  },
  {
   "cell_type": "code",
   "execution_count": 3,
   "metadata": {},
   "outputs": [
    {
     "name": "stdout",
     "output_type": "stream",
     "text": [
      "w: variable W([[-0.41930383]])\n",
      "b: variable b([ 0.])\n",
      "Operations on chainer.Variable: variable([[ 122.58069611]]), type: <class 'chainer.variable.Variable'>\n",
      "numpy arrays: [[-0.41930383]] [[ 122.58069611]]\n"
     ]
    }
   ],
   "source": [
    "model = L.Linear(in_size=1, out_size=1) # input is 1D data and output is also 1D data\n",
    "\n",
    "# Chainer will randomly initialize `w` and `b` for us.\n",
    "# we can take a look at their values\n",
    "print(\"w:\", model.W)\n",
    "print(\"b:\", model.b)\n",
    "\n",
    "# model.W and model.b have type `chainer.Variable`, \n",
    "#   which is a wrapper around Numpy array\n",
    "assert isinstance(model.W, chainer.Variable)\n",
    "\n",
    "# operations that involve `chainer.Variable` will produce\n",
    "#   `chainer.Variable` and this records the computation graph\n",
    "var_result = model.W + 123 # some random computation\n",
    "print(\"Operations on chainer.Variable: %s, type: %s\" % (var_result, type(var_result)))\n",
    "\n",
    "# the underlying numpy array can be accessed by `data` attribute\n",
    "print(\"numpy arrays:\", model.W.data, var_result.data)"
   ]
  },
  {
   "cell_type": "code",
   "execution_count": 4,
   "metadata": {},
   "outputs": [
    {
     "data": {
      "image/png": "[encoded data removed]",
      "text/plain": [
       "<Figure size 432x288 with 1 Axes>"
      ]
     },
     "metadata": {
      "needs_background": "light"
     },
     "output_type": "display_data"
    }
   ],
   "source": [
    "# A chainer link is a callable object. calling it performs the\n",
    "#   forward computation. (in this case, it performs Wx + b)\n",
    "model_y = model(data_x[:, None]) # chainer's link usually assumes input is [Batch Size, Input Dimension]\n",
    "# `model_y` is a chainer variable so we use `.data` to access its numpy array for plotting\n",
    "\n",
    "# we can plot the model's current fit in red. it should be terrible because we haven't trained it yet\n",
    "_ = plt.plot(data_x, model_y.data[:,0], c='r')\n",
    "_ = plt.scatter(data_x, data_y, c='b')\n",
    "_ = plt.title(\"Initial model\")"
   ]
  },
  {
   "cell_type": "code",
   "execution_count": 5,
   "metadata": {},
   "outputs": [
    {
     "name": "stdout",
     "output_type": "stream",
     "text": [
      "loss variable(0.397856205701828)\n",
      "dloss/dW [[-0.28664932]]\n"
     ]
    }
   ],
   "source": [
    "# now let's walk through how to perform forward computation\n",
    "#  and use AD to get gradients\n",
    "\n",
    "# first we clear the gradients that are stored in the model\n",
    "model.cleargrads()\n",
    "# as we have seen we can perform forward computation by calling the link\n",
    "model_y = model(data_x[:, None])\n",
    "\n",
    "# remember that `model_y` is a chainer variable. to operate on chainer variable\n",
    "#    we will use functions from chainer.functions to operate on those objects.\n",
    "loss = F.mean(F.square(model_y - data_y[:, None]))\n",
    "# `loss` is a scalar chainer variable\n",
    "assert isinstance(loss, chainer.Variable)\n",
    "print(\"loss\", loss)\n",
    "# calculating gradients d loss /d params is as simple as\n",
    "loss.backward()\n",
    "\n",
    "# we can inspect the gradient of loss with respect to W\n",
    "print(\"dloss/dW\", model.W.grad)"
   ]
  },
  {
   "cell_type": "markdown",
   "metadata": {},
   "source": [
    "Now that we know how to calculate gradients, we can code up a simple loop to perform gradient descent to train this model:\n",
    "\n",
    "(Hint: if you run into weird problems, maybe the state has been messed up and you can try re-runing all the code blocks from the beginning)"
   ]
  },
  {
   "cell_type": "code",
   "execution_count": 6,
   "metadata": {},
   "outputs": [
    {
     "name": "stdout",
     "output_type": "stream",
     "text": [
      "Itr 0 loss: variable(0.6813616752624512)\n",
      "Itr 25 loss: variable(0.23182587325572968)\n",
      "Itr 50 loss: variable(0.10355668514966965)\n",
      "Itr 75 loss: variable(0.049141909927129745)\n"
     ]
    },
    {
     "data": {
      "image/png": "[encoded data removed]",
      "text/plain": [
       "<Figure size 432x288 with 1 Axes>"
      ]
     },
     "metadata": {
      "needs_background": "light"
     },
     "output_type": "display_data"
    },
    {
     "data": {
      "image/png": "[encoded data removed]",
      "text/plain": [
       "<Figure size 432x288 with 1 Axes>"
      ]
     },
     "metadata": {
      "needs_background": "light"
     },
     "output_type": "display_data"
    }
   ],
   "source": [
    "# now we can perform gradient descent to improve this model\n",
    "model = L.Linear(in_size=1, out_size=1)\n",
    "losses = []\n",
    "\n",
    "alpha = 0.1 # learning rate\n",
    "\n",
    "for i in range(100):\n",
    "    model.cleargrads()\n",
    "    loss = F.mean(F.square(model(data_x[:, None]) - data_y[:, None]))\n",
    "    losses.append(float(loss.data))\n",
    "\n",
    "    # backprob and update weights and bias according to the learning rate\n",
    "    loss.backward()    \n",
    "    model.W.data -= alpha * model.W.grad\n",
    "    model.b.data -= alpha * model.b.grad\n",
    "\n",
    "    if i % 25 == 0:\n",
    "        print(\"Itr\", i, \"loss:\", loss)\n",
    "plt.plot(np.array(losses))\n",
    "plt.title(\"Learning curve\")\n",
    "plt.figure()\n",
    "plt.plot(data_x, model(data_x[:, None])[:,0].data, c='r')\n",
    "plt.scatter(data_x, data_y, c='b')\n",
    "_ = plt.title(\"Trained model fitness\")"
   ]
  },
  {
   "cell_type": "code",
   "execution_count": 7,
   "metadata": {},
   "outputs": [
    {
     "name": "stdout",
     "output_type": "stream",
     "text": [
      "RESULTS: \n",
      "True A was 1.3 I got 0.819251\n",
      "True B was 0.4 I got 0.383647\n"
     ]
    }
   ],
   "source": [
    "# Compare my approximated results with the initial values chosen to create the test data set\n",
    "print(\"RESULTS: \")\n",
    "\n",
    "print(\"True A was\", true_a, \"I got\", model.W.data[0][0])\n",
    "print(\"True B was\", true_b, \"I got\", model.b.data[0])"
   ]
  },
  {
   "cell_type": "markdown",
   "metadata": {},
   "source": [
    "## Train your first deep model\n",
    "\n",
    "Now we have learned the basics of Chainer. We can use it to train a deep model to classify MNIST digits. We will train a model on the MNIST dataset because the dataset is small.\n",
    "\n",
    "First we load the data and see what the images look like:"
   ]
  },
  {
   "cell_type": "code",
   "execution_count": 9,
   "metadata": {
    "scrolled": false
   },
   "outputs": [
    {
     "name": "stdout",
     "output_type": "stream",
     "text": [
      "train[i][0] is the ith image that's flattened, and has shape: (784,)\n",
      "train[i][1] is the ith image's label, such as: 3\n"
     ]
    },
    {
     "data": {
      "image/png": "[encoded data removed]",
      "text/plain": [
       "<Figure size 432x288 with 1 Axes>"
      ]
     },
     "metadata": {
      "needs_background": "light"
     },
     "output_type": "display_data"
    },
    {
     "data": {
      "image/png": "[encoded data removed]",
      "text/plain": [
       "<Figure size 432x288 with 1 Axes>"
      ]
     },
     "metadata": {
      "needs_background": "light"
     },
     "output_type": "display_data"
    }
   ],
   "source": [
    "train, test = chainer.datasets.get_mnist()\n",
    "# use train[data_point_index] to access data\n",
    "print(\"train[i][0] is the ith image that's flattened, and has shape:\", train[12][0].shape)\n",
    "print(\"train[i][1] is the ith image's label, such as:\", train[12][1])\n",
    "# here we visualize two of them\n",
    "plt.imshow(train[12][0].reshape([28, 28,]))\n",
    "plt.title(\"Label: %s\" % train[12][1])\n",
    "plt.figure()\n",
    "plt.imshow(train[42][0].reshape([28, 28,]))\n",
    "_ = plt.title(\"Label: %s\" % train[42][1])"
   ]
  },
  {
   "cell_type": "markdown",
   "metadata": {},
   "source": [
    "Next we will provide some boilerplate code and train a linear classifier as an example:"
   ]
  },
  {
   "cell_type": "code",
   "execution_count": 10,
   "metadata": {},
   "outputs": [],
   "source": [
    "def run(model, batchsize=16, num_epochs=2):\n",
    "    \n",
    "    optimizer = chainer.optimizers.Adam() # we will use chainer's Adam implementation instead of writing our own gradient based optimization\n",
    "    optimizer.setup(model)\n",
    "    \n",
    "    stats = defaultdict(lambda: deque(maxlen=25))\n",
    "    for epoch in range(num_epochs):\n",
    "        train_iter = chainer.iterators.SerialIterator(train, batchsize, repeat=False, shuffle=True)\n",
    "        test_iter = chainer.iterators.SerialIterator(test, batchsize, repeat=False, shuffle=False)\n",
    "        \n",
    "        for itr, batch in enumerate(train_iter):\n",
    "            xs = np.concatenate([datum[0][None, :] for datum in batch])\n",
    "            ys = np.array([datum[1] for datum in batch])\n",
    "\n",
    "            logits = model(xs)\n",
    "\n",
    "            loss = F.softmax_cross_entropy(logits, ys)\n",
    "            model.cleargrads()\n",
    "            loss.backward()\n",
    "            optimizer.update()\n",
    "            \n",
    "            # calculate stats\n",
    "            stats[\"loss\"].append(float(loss.data))\n",
    "            stats[\"accuracy\"].append(float((logits.data.argmax(1) == ys).sum() / batchsize))\n",
    "            #if itr % 300 == 0:\n",
    "                # print(\"; \".join(\"%s: %s\" % (k, np.mean(vs)) for k, vs in stats.items()))\n",
    "\n",
    "# try a simple linear model\n",
    "run(L.Linear(None, 10))"
   ]
  },
  {
   "cell_type": "markdown",
   "metadata": {},
   "source": [
    "Next we will try to improve performance by training an MLP instead. A partial implementation is provided for you to fill in:"
   ]
  },
  {
   "cell_type": "code",
   "execution_count": 11,
   "metadata": {},
   "outputs": [],
   "source": [
    "class MLP(chainer.Chain):\n",
    "\n",
    "    def __init__(self, n_units, n_out):\n",
    "        super(MLP, self).__init__()\n",
    "        with self.init_scope():\n",
    "            # the size of the inputs to each layer will be inferred\n",
    "            self.l1 = L.Linear(None, n_units)  # n_in -> n_units\n",
    "            self.l2 = L.Linear(None, n_units)  # n_units -> n_units\n",
    "            self.l3 = L.Linear(None, n_out)  # n_units -> n_out\n",
    "\n",
    "    def __call__(self, x):\n",
    "        # activate all layers in our multi layer perceptron\n",
    "        output_l1 = F.relu(self.l1(x))\n",
    "        output_l2 = F.relu(self.l2(output_l1))\n",
    "        output_l3 = self.l3(output_l2)\n",
    "        \n",
    "        return output_l3\n",
    "run(MLP(200, 10))"
   ]
  },
  {
   "cell_type": "markdown",
   "metadata": {},
   "source": [
    "Next you should try to implement logging test loss and see if the model is overfitting."
   ]
  },
  {
   "cell_type": "code",
   "execution_count": 12,
   "metadata": {},
   "outputs": [
    {
     "name": "stdout",
     "output_type": "stream",
     "text": [
      "Iteration 0 loss: 2.28861689568; accuracy: 0.1875\n",
      "Iteration 300 loss: 0.566051079035; accuracy: 0.86875\n",
      "Iteration 600 loss: 0.396139651537; accuracy: 0.895\n",
      "Iteration 900 loss: 0.345742154717; accuracy: 0.91875\n",
      "Iteration 1200 loss: 0.258284321427; accuracy: 0.9175\n",
      "Iteration 1500 loss: 0.254258603454; accuracy: 0.9375\n",
      "Iteration 1800 loss: 0.275507938266; accuracy: 0.91875\n",
      "Iteration 0 loss: 0.201493073106; accuracy: 0.95\n",
      "Iteration 300 loss: 0.217640229762; accuracy: 0.93625\n",
      "Iteration 600 loss: 0.247848943472; accuracy: 0.92875\n",
      "Iteration 900 loss: 0.232055054009; accuracy: 0.925\n",
      "Iteration 1200 loss: 0.214628314376; accuracy: 0.935\n",
      "Iteration 1500 loss: 0.220202744007; accuracy: 0.93875\n",
      "Iteration 1800 loss: 0.162732592821; accuracy: 0.94625\n",
      "Iteration 0 loss: 0.194626482725; accuracy: 0.94\n",
      "Iteration 300 loss: 0.176858404279; accuracy: 0.9475\n",
      "Iteration 600 loss: 0.155505464673; accuracy: 0.95625\n",
      "Iteration 900 loss: 0.132386411726; accuracy: 0.96\n",
      "Iteration 1200 loss: 0.167983131111; accuracy: 0.9475\n",
      "Iteration 1500 loss: 0.178817680478; accuracy: 0.94375\n",
      "Iteration 1800 loss: 0.153868121952; accuracy: 0.94875\n",
      "Iteration 0 loss: 0.157931170464; accuracy: 0.9525\n",
      "Iteration 300 loss: 0.139150041938; accuracy: 0.95375\n",
      "Iteration 600 loss: 0.112836836874; accuracy: 0.96625\n",
      "Iteration 900 loss: 0.136376625448; accuracy: 0.96125\n",
      "Iteration 1200 loss: 0.114306030273; accuracy: 0.96375\n",
      "Iteration 1500 loss: 0.123814069331; accuracy: 0.9625\n",
      "Iteration 1800 loss: 0.130317181647; accuracy: 0.9625\n",
      "Iteration 0 loss: 0.119003173411; accuracy: 0.96375\n",
      "Iteration 300 loss: 0.121097683609; accuracy: 0.96375\n",
      "Iteration 600 loss: 0.117253984213; accuracy: 0.96625\n",
      "Iteration 900 loss: 0.118625724018; accuracy: 0.95875\n",
      "Iteration 1200 loss: 0.119124201536; accuracy: 0.97\n",
      "Iteration 1500 loss: 0.112606463432; accuracy: 0.97\n",
      "Iteration 1800 loss: 0.128308420777; accuracy: 0.9675\n"
     ]
    },
    {
     "data": {
      "text/plain": [
       "[<matplotlib.lines.Line2D at 0x7f94dca5cef0>]"
      ]
     },
     "execution_count": 12,
     "metadata": {},
     "output_type": "execute_result"
    },
    {
     "data": {
      "image/png": "[encoded data removed]",
      "text/plain": [
       "<Figure size 432x288 with 1 Axes>"
      ]
     },
     "metadata": {
      "needs_background": "light"
     },
     "output_type": "display_data"
    }
   ],
   "source": [
    "def better_run(model, shuffle, batchsize=32, num_epochs=5):\n",
    "\n",
    "    # modify learning rate here\n",
    "    optimizer = chainer.optimizers.Adam(alpha=0.0001) # we will use chainer's Adam implementation instead of writing our own gradient based optimization\n",
    "    optimizer.setup(model)\n",
    "    \n",
    "    stats = defaultdict(lambda: deque(maxlen=25))\n",
    "    losses = []\n",
    "    accs = []\n",
    "    \n",
    "    for epoch in range(num_epochs):\n",
    "        train_iter = chainer.iterators.SerialIterator(train, batchsize, repeat=False, shuffle=shuffle)\n",
    "        for itr, batch in enumerate(train_iter):\n",
    "            xs = np.concatenate([datum[0][None, :] for datum in batch])\n",
    "            ys = np.array([datum[1] for datum in batch])\n",
    "\n",
    "            logits = model(xs)\n",
    "\n",
    "            loss = F.softmax_cross_entropy(logits, ys)\n",
    "            model.cleargrads()\n",
    "            loss.backward()\n",
    "            optimizer.update()\n",
    "            \n",
    "            # calculate stats\n",
    "            stats[\"loss\"].append(float(loss.data))\n",
    "            stats[\"accuracy\"].append(float((logits.data.argmax(1) == ys).sum() / batchsize))\n",
    "            if itr % 300 == 0:\n",
    "                test_iter = chainer.iterators.SerialIterator(test, batchsize, repeat=False, shuffle=False)\n",
    "                # keep the mean loss to visualize the learning process\n",
    "                losses.append(np.mean(stats[\"loss\"]))\n",
    "                print(\"Iteration\", itr, \"; \".join(\"%s: %s\" % (k, np.mean(vs)) for k, vs in stats.items()))\n",
    "                \n",
    "    return losses\n",
    "\n",
    "\n",
    "losses = better_run(MLP(200, 10), shuffle=True)\n",
    "\n",
    "# Plot the learning process\n",
    "fig, ax = plt.subplots(constrained_layout=True)\n",
    "ax.set_title(\"Learning Curve\")\n",
    "ax.plot(losses)"
   ]
  },
  {
   "cell_type": "markdown",
   "metadata": {},
   "source": [
    "Try different variants!\n",
    "\n",
    "- Does using a ConvNet improve performance (reduce overfitting?)\n",
    "- Try changing the learning rate and observe the effect\n",
    "- Does the model train if you give it correlated gradients? (consecutively sample many batches of \"1\", then many batches of \"2\", ... etc"
   ]
  },
  {
   "cell_type": "code",
   "execution_count": 85,
   "metadata": {},
   "outputs": [],
   "source": [
    "# sort train data so that we can evaluate the consecutive sampling of the same number (start with just 0s then 1s, 2s, etc.)\n",
    "train = sorted(train, key=lambda x: x[1])"
   ]
  },
  {
   "cell_type": "code",
   "execution_count": 86,
   "metadata": {},
   "outputs": [
    {
     "name": "stdout",
     "output_type": "stream",
     "text": [
      "Iteration 0 accuracy: 0.0; loss: 2.37376642227\n",
      "Iteration 300 accuracy: 1.0; loss: 0.0193695241213\n",
      "Iteration 600 accuracy: 0.23875; loss: 4.48973956943\n",
      "Iteration 900 accuracy: 1.0; loss: 0.0163374987245\n",
      "Iteration 1200 accuracy: 1.0; loss: 0.172397643924\n",
      "Iteration 1500 accuracy: 1.0; loss: 0.00670961618423\n",
      "Iteration 1800 accuracy: 1.0; loss: 0.0561146466434\n",
      "Iteration 0 accuracy: 0.96; loss: 0.287567922771\n",
      "Iteration 300 accuracy: 0.9975; loss: 0.0174866847694\n",
      "Iteration 600 accuracy: 0.435; loss: 2.06886228114\n",
      "Iteration 900 accuracy: 1.0; loss: 0.00873975798488\n",
      "Iteration 1200 accuracy: 1.0; loss: 0.0246420493722\n",
      "Iteration 1500 accuracy: 1.0; loss: 0.00660650826991\n",
      "Iteration 1800 accuracy: 1.0; loss: 0.0185620801896\n",
      "Iteration 0 accuracy: 0.9625; loss: 0.0994022443146\n",
      "Iteration 300 accuracy: 0.9925; loss: 0.0245737098157\n",
      "Iteration 600 accuracy: 0.6425; loss: 1.14474955767\n",
      "Iteration 900 accuracy: 1.0; loss: 0.00516285896301\n",
      "Iteration 1200 accuracy: 0.9975; loss: 0.0148991868272\n",
      "Iteration 1500 accuracy: 1.0; loss: 0.00379910744727\n",
      "Iteration 1800 accuracy: 1.0; loss: 0.0109918636084\n",
      "Iteration 0 accuracy: 0.98; loss: 0.0559238086641\n",
      "Iteration 300 accuracy: 0.9925; loss: 0.0260162897408\n",
      "Iteration 600 accuracy: 0.73625; loss: 0.773342000246\n",
      "Iteration 900 accuracy: 1.0; loss: 0.00359858296812\n",
      "Iteration 1200 accuracy: 0.99625; loss: 0.0128990229964\n",
      "Iteration 1500 accuracy: 1.0; loss: 0.00285459740087\n",
      "Iteration 1800 accuracy: 1.0; loss: 0.00753324557096\n",
      "Iteration 0 accuracy: 0.98; loss: 0.0475398308039\n",
      "Iteration 300 accuracy: 0.9925; loss: 0.0235513784736\n",
      "Iteration 600 accuracy: 0.7875; loss: 0.645916767716\n",
      "Iteration 900 accuracy: 1.0; loss: 0.00261660858989\n",
      "Iteration 1200 accuracy: 0.9975; loss: 0.00997190386057\n",
      "Iteration 1500 accuracy: 1.0; loss: 0.00210100889206\n",
      "Iteration 1800 accuracy: 1.0; loss: 0.00570516295731\n"
     ]
    },
    {
     "data": {
      "text/plain": [
       "[<matplotlib.lines.Line2D at 0x7fadbe5d4898>]"
      ]
     },
     "execution_count": 86,
     "metadata": {},
     "output_type": "execute_result"
    },
    {
     "data": {
      "image/png": "[encoded data removed]",
      "text/plain": [
       "<Figure size 432x288 with 1 Axes>"
      ]
     },
     "metadata": {
      "needs_background": "light"
     },
     "output_type": "display_data"
    }
   ],
   "source": [
    "# Try our MLP without shuffling the data set (I modified the better_run method and added an option to disable shuffling)\n",
    "losses = better_run(MLP(200, 10), shuffle=False)\n",
    "\n",
    "# Plot the learning curve\n",
    "# Here is is really overfitting quite hard. After every new number the loss jumps again.\n",
    "fig, ax = plt.subplots(constrained_layout=True)\n",
    "ax.set_title(\"Learning Curve\")\n",
    "ax.plot(losses)"
   ]
  },
  {
   "cell_type": "code",
   "execution_count": null,
   "metadata": {},
   "outputs": [],
   "source": []
  }
 ],
 "metadata": {
  "kernelspec": {
   "display_name": "Python 3",
   "language": "python",
   "name": "python3"
  },
  "language_info": {
   "codemirror_mode": {
    "name": "ipython",
    "version": 3
   },
   "file_extension": ".py",
   "mimetype": "text/x-python",
   "name": "python",
   "nbconvert_exporter": "python",
   "pygments_lexer": "ipython3",
   "version": "3.5.3"
  }
 },
 "nbformat": 4,
 "nbformat_minor": 1
}
