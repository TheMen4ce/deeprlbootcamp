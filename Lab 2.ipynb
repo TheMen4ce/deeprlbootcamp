{
 "cells": [
  {
   "cell_type": "markdown",
   "metadata": {},
   "source": [
    "# Dennis Briner 06.11.2021"
   ]
  },
  {
   "cell_type": "code",
   "execution_count": 19,
   "metadata": {},
   "outputs": [],
   "source": [
    "\"\"\"\n",
    "This project was developed by Peter Chen, Rocky Duan, Pieter Abbeel for the Berkeley Deep RL Bootcamp, August 2017.\n",
    "Bootcamp website with slides and lecture videos: https://sites.google.com/view/deep-rl-bootcamp/.\n",
    "\n",
    "Code adapted from Stanford CS231N materials: http://cs231n.stanford.edu/\n",
    "\"\"\"\n",
    "\n",
    "\n",
    "# note to properly run this lab, you should execute all code blocks sequentially\n",
    "import chainer\n",
    "import chainer.functions as F\n",
    "import chainer.links as L\n",
    "from chainer import training\n",
    "from chainer.training import extensions\n",
    "\n",
    "from collections import namedtuple, defaultdict, deque\n",
    "\n",
    "import numpy as np\n",
    "\n",
    "%matplotlib inline\n",
    "\n",
    "import matplotlib\n",
    "import matplotlib.pyplot as plt"
   ]
  },
  {
   "cell_type": "markdown",
   "metadata": {},
   "source": [
    "## Introduction to Chainer\n",
    "\n",
    "Chainer can be understood as Numpy plus the ability to record the computation graph of numerical operations to enable Automatic Differentiation. (Chainer actually also offers many other things; for example, a Numpy equivalent library that runs on GPU, but we will ignore them for now)"
   ]
  },
  {
   "cell_type": "markdown",
   "metadata": {},
   "source": [
    "Let's illustrate how Chainer works by a simple 1D regression task.\n",
    "\n",
    "Suppose we have observations from the following model $y = w x + b + \\epsilon$ where $\\epsilon \\sim \\mathcal{N}(0, 0.1)$ and the task is to estimate the linear model parameters $w, b$ from data."
   ]
  },
  {
   "cell_type": "code",
   "execution_count": 20,
   "metadata": {},
   "outputs": [
    {
     "data": {
      "image/png": "[encoded data removed]",
      "text/plain": [
       "<Figure size 432x288 with 1 Axes>"
      ]
     },
     "metadata": {
      "needs_background": "light"
     },
     "output_type": "display_data"
    }
   ],
   "source": [
    "# first generate some observations\n",
    "true_a = 1.3\n",
    "true_b = 0.4\n",
    "data_x = (np.arange(100) / 99.0 - .5).astype(np.float32) # Chainer assumes all the cpu computation is done in float32\n",
    "data_y = (data_x * true_a + true_b + np.random.randn(*data_x.shape) * 0.1).astype(np.float32)\n",
    "_ = plt.scatter(data_x, data_y, c='b')"
   ]
  },
  {
   "cell_type": "markdown",
   "metadata": {},
   "source": [
    "Chainer provides an abstraction called `Link` that describe some computation and keeps track of parameters for it. For instance, a `Linear` link describes a linear map on input and keeps track of `w` and bias `b`."
   ]
  },
  {
   "cell_type": "code",
   "execution_count": 21,
   "metadata": {},
   "outputs": [
    {
     "name": "stdout",
     "output_type": "stream",
     "text": [
      "w: variable W([[ 0.38793817]])\n",
      "b: variable b([ 0.])\n",
      "Operations on chainer.Variable: variable([[ 123.38793945]]), type: <class 'chainer.variable.Variable'>\n",
      "numpy arrays: [[ 0.38793817]] [[ 123.38793945]]\n"
     ]
    }
   ],
   "source": [
    "model = L.Linear(in_size=1, out_size=1) # input is 1D data and output is also 1D data\n",
    "\n",
    "# Chainer will randomly initialize `w` and `b` for us.\n",
    "# we can take a look at their values\n",
    "print(\"w:\", model.W)\n",
    "print(\"b:\", model.b)\n",
    "\n",
    "# model.W and model.b have type `chainer.Variable`, \n",
    "#   which is a wrapper around Numpy array\n",
    "assert isinstance(model.W, chainer.Variable)\n",
    "\n",
    "# operations that involve `chainer.Variable` will produce\n",
    "#   `chainer.Variable` and this records the computation graph\n",
    "var_result = model.W + 123 # some random computation\n",
    "print(\"Operations on chainer.Variable: %s, type: %s\" % (var_result, type(var_result)))\n",
    "\n",
    "# the underlying numpy array can be accessed by `data` attribute\n",
    "print(\"numpy arrays:\", model.W.data, var_result.data)"
   ]
  },
  {
   "cell_type": "code",
   "execution_count": 22,
   "metadata": {},
   "outputs": [
    {
     "data": {
      "image/png": "[encoded data removed]",
      "text/plain": [
       "<Figure size 432x288 with 1 Axes>"
      ]
     },
     "metadata": {
      "needs_background": "light"
     },
     "output_type": "display_data"
    }
   ],
   "source": [
    "# A chainer link is a callable object. calling it performs the\n",
    "#   forward computation. (in this case, it performs Wx + b)\n",
    "model_y = model(data_x[:, None]) # chainer's link usually assumes input is [Batch Size, Input Dimension]\n",
    "# `model_y` is a chainer variable so we use `.data` to access its numpy array for plotting\n",
    "\n",
    "# we can plot the model's current fit in red. it should be terrible because we haven't trained it yet\n",
    "_ = plt.plot(data_x, model_y.data[:,0], c='r')\n",
    "_ = plt.scatter(data_x, data_y, c='b')\n",
    "_ = plt.title(\"Initial model\")"
   ]
  },
  {
   "cell_type": "code",
   "execution_count": 23,
   "metadata": {},
   "outputs": [
    {
     "name": "stdout",
     "output_type": "stream",
     "text": [
      "loss variable(0.24446339905261993)\n",
      "dloss/dW [[-0.16744275]]\n"
     ]
    }
   ],
   "source": [
    "# now let's walk through how to perform forward computation\n",
    "#  and use AD to get gradients\n",
    "\n",
    "# first we clear the gradients that are stored in the model\n",
    "model.cleargrads()\n",
    "# as we have seen we can perform forward computation by calling the link\n",
    "model_y = model(data_x[:, None])\n",
    "\n",
    "# remember that `model_y` is a chainer variable. to operate on chainer variable\n",
    "#    we will use functions from chainer.functions to operate on those objects.\n",
    "loss = F.mean(F.square(model_y - data_y[:, None]))\n",
    "# `loss` is a scalar chainer variable\n",
    "assert isinstance(loss, chainer.Variable)\n",
    "print(\"loss\", loss)\n",
    "# calculating gradients d loss /d params is as simple as\n",
    "loss.backward()\n",
    "\n",
    "# we can inspect the gradient of loss with respect to W\n",
    "print(\"dloss/dW\", model.W.grad)"
   ]
  },
  {
   "cell_type": "markdown",
   "metadata": {},
   "source": [
    "Now that we know how to calculate gradients, we can code up a simple loop to perform gradient descent to train this model:\n",
    "\n",
    "(Hint: if you run into weird problems, maybe the state has been messed up and you can try re-runing all the code blocks from the beginning)"
   ]
  },
  {
   "cell_type": "code",
   "execution_count": 55,
   "metadata": {},
   "outputs": [
    {
     "name": "stdout",
     "output_type": "stream",
     "text": [
      "Itr 0 loss: variable(0.46032771468162537)\n",
      "Itr 25 loss: variable(0.13916979730129242)\n",
      "Itr 50 loss: variable(0.06630279868841171)\n",
      "Itr 75 loss: variable(0.03539133444428444)\n"
     ]
    },
    {
     "data": {
      "image/png": "[encoded data removed]",
      "text/plain": [
       "<Figure size 432x288 with 1 Axes>"
      ]
     },
     "metadata": {
      "needs_background": "light"
     },
     "output_type": "display_data"
    },
    {
     "data": {
      "image/png": "[encoded data removed]",
      "text/plain": [
       "<Figure size 432x288 with 1 Axes>"
      ]
     },
     "metadata": {
      "needs_background": "light"
     },
     "output_type": "display_data"
    }
   ],
   "source": [
    "# now we can perform gradient descent to improve this model\n",
    "model = L.Linear(in_size=1, out_size=1)\n",
    "losses = []\n",
    "\n",
    "alpha = 0.1 # learning rate\n",
    "\n",
    "for i in range(100):\n",
    "    model.cleargrads()\n",
    "    loss = F.mean(F.square(model(data_x[:, None]) - data_y[:, None]))\n",
    "    losses.append(float(loss.data))\n",
    "\n",
    "    ## *** YOUR CODE HERE TO PERFORM GRADIENT DESCENT ***\n",
    "\n",
    "    loss.backward()    \n",
    "    model.W.data -= alpha * model.W.grad\n",
    "    model.b.data -= alpha * model.b.grad\n",
    "\n",
    "    if i % 25 == 0:\n",
    "        print(\"Itr\", i, \"loss:\", loss)\n",
    "plt.plot(np.array(losses))\n",
    "plt.title(\"Learning curve\")\n",
    "plt.figure()\n",
    "plt.plot(data_x, model(data_x[:, None])[:,0].data, c='r')\n",
    "plt.scatter(data_x, data_y, c='b')\n",
    "_ = plt.title(\"Trained model fitness\")"
   ]
  },
  {
   "cell_type": "code",
   "execution_count": 25,
   "metadata": {},
   "outputs": [
    {
     "name": "stdout",
     "output_type": "stream",
     "text": [
      "RESULTS: \n",
      "True A was 1.3 I got 1.2935\n",
      "True B was 0.4 I got 0.386526\n"
     ]
    }
   ],
   "source": [
    "print(\"RESULTS: \")\n",
    "\n",
    "print(\"True A was\", true_a, \"I got\", model.W.data[0][0])\n",
    "print(\"True B was\", true_b, \"I got\", model.b.data[0])"
   ]
  },
  {
   "cell_type": "markdown",
   "metadata": {},
   "source": [
    "## Train your first deep model\n",
    "\n",
    "Now we have learned the basics of Chainer. We can use it to train a deep model to classify MNIST digits. We will train a model on the MNIST dataset because the dataset is small.\n",
    "\n",
    "First we load the data and see what the images look like:"
   ]
  },
  {
   "cell_type": "code",
   "execution_count": 26,
   "metadata": {
    "scrolled": false
   },
   "outputs": [
    {
     "name": "stdout",
     "output_type": "stream",
     "text": [
      "train[i][0] is the ith image that's flattened, and has shape: (784,)\n",
      "train[i][1] is the ith image's label, such as: 3\n"
     ]
    },
    {
     "data": {
      "image/png": "[encoded data removed]",
      "text/plain": [
       "<Figure size 432x288 with 1 Axes>"
      ]
     },
     "metadata": {
      "needs_background": "light"
     },
     "output_type": "display_data"
    },
    {
     "data": {
      "image/png": "[encoded data removed]",
      "text/plain": [
       "<Figure size 432x288 with 1 Axes>"
      ]
     },
     "metadata": {
      "needs_background": "light"
     },
     "output_type": "display_data"
    }
   ],
   "source": [
    "train, test = chainer.datasets.get_mnist()\n",
    "# use train[data_point_index] to access data\n",
    "print(\"train[i][0] is the ith image that's flattened, and has shape:\", train[12][0].shape)\n",
    "print(\"train[i][1] is the ith image's label, such as:\", train[12][1])\n",
    "# here we visualize two of them\n",
    "plt.imshow(train[12][0].reshape([28, 28,]))\n",
    "plt.title(\"Label: %s\" % train[12][1])\n",
    "plt.figure()\n",
    "plt.imshow(train[42][0].reshape([28, 28,]))\n",
    "_ = plt.title(\"Label: %s\" % train[42][1])"
   ]
  },
  {
   "cell_type": "markdown",
   "metadata": {},
   "source": [
    "Next we will provide some boilerplate code and train a linear classifier as an example:"
   ]
  },
  {
   "cell_type": "code",
   "execution_count": 51,
   "metadata": {},
   "outputs": [
    {
     "data": {
      "text/plain": [
       "defaultdict(<function __main__.run.<locals>.<lambda>()>,\n",
       "            {'accuracy': deque([1.0,\n",
       "                    0.9375,\n",
       "                    1.0,\n",
       "                    1.0,\n",
       "                    0.8125,\n",
       "                    1.0,\n",
       "                    0.9375,\n",
       "                    0.875,\n",
       "                    0.9375,\n",
       "                    0.9375,\n",
       "                    0.9375,\n",
       "                    0.9375,\n",
       "                    1.0,\n",
       "                    1.0,\n",
       "                    0.875,\n",
       "                    0.8125,\n",
       "                    1.0,\n",
       "                    0.9375,\n",
       "                    0.8125,\n",
       "                    0.875,\n",
       "                    0.875,\n",
       "                    1.0,\n",
       "                    0.875,\n",
       "                    1.0,\n",
       "                    1.0]),\n",
       "             'loss': deque([0.03592303395271301,\n",
       "                    0.2671029567718506,\n",
       "                    0.15359938144683838,\n",
       "                    0.112177774310112,\n",
       "                    0.3091917037963867,\n",
       "                    0.06389369070529938,\n",
       "                    0.17146635055541992,\n",
       "                    0.24131056666374207,\n",
       "                    0.1279582679271698,\n",
       "                    0.16797979176044464,\n",
       "                    0.12729206681251526,\n",
       "                    0.4906362295150757,\n",
       "                    0.13975441455841064,\n",
       "                    0.0752970278263092,\n",
       "                    0.23853632807731628,\n",
       "                    0.41642555594444275,\n",
       "                    0.1800866574048996,\n",
       "                    0.4214749336242676,\n",
       "                    0.31974631547927856,\n",
       "                    0.3741660714149475,\n",
       "                    0.4705085754394531,\n",
       "                    0.13130183517932892,\n",
       "                    0.2870444059371948,\n",
       "                    0.05412277579307556,\n",
       "                    0.0776526927947998])})"
      ]
     },
     "execution_count": 51,
     "metadata": {},
     "output_type": "execute_result"
    }
   ],
   "source": [
    "def run(model, batchsize=16, num_epochs=2):\n",
    "    \n",
    "    optimizer = chainer.optimizers.Adam() # we will use chainer's Adam implementation instead of writing our own gradient based optimization\n",
    "    optimizer.setup(model)\n",
    "    \n",
    "    stats = defaultdict(lambda: deque(maxlen=25))\n",
    "    for epoch in range(num_epochs):\n",
    "        train_iter = chainer.iterators.SerialIterator(train, batchsize, repeat=False, shuffle=True)\n",
    "        test_iter = chainer.iterators.SerialIterator(test, batchsize, repeat=False, shuffle=False)\n",
    "        \n",
    "        for itr, batch in enumerate(train_iter):\n",
    "            xs = np.concatenate([datum[0][None, :] for datum in batch])\n",
    "            ys = np.array([datum[1] for datum in batch])\n",
    "\n",
    "            logits = model(xs)\n",
    "\n",
    "            loss = F.softmax_cross_entropy(logits, ys)\n",
    "            model.cleargrads()\n",
    "            loss.backward()\n",
    "            optimizer.update()\n",
    "            \n",
    "            # calculate stats\n",
    "            stats[\"loss\"].append(float(loss.data))\n",
    "            stats[\"accuracy\"].append(float((logits.data.argmax(1) == ys).sum() / batchsize))\n",
    "            #if itr % 300 == 0:\n",
    "                # print(\"; \".join(\"%s: %s\" % (k, np.mean(vs)) for k, vs in stats.items()))\n",
    "    \n",
    "    return stats\n",
    "\n",
    "# try a simple linear model\n",
    "run(L.Linear(None, 10))"
   ]
  },
  {
   "cell_type": "markdown",
   "metadata": {},
   "source": [
    "Next we will try to improve performance by training an MLP instead. A partial implementation is provided for you to fill in:"
   ]
  },
  {
   "cell_type": "code",
   "execution_count": 33,
   "metadata": {},
   "outputs": [
    {
     "name": "stdout",
     "output_type": "stream",
     "text": [
      "accuracy: 0.0625; loss: 2.3703494072\n",
      "accuracy: 0.9075; loss: 0.323137267232\n",
      "accuracy: 0.93; loss: 0.207018357813\n",
      "accuracy: 0.9225; loss: 0.24067116797\n",
      "accuracy: 0.955; loss: 0.144744287133\n",
      "accuracy: 0.9425; loss: 0.180317642689\n",
      "accuracy: 0.94; loss: 0.203456352353\n",
      "accuracy: 0.94; loss: 0.167608133554\n",
      "accuracy: 0.9675; loss: 0.107750818133\n",
      "accuracy: 0.955; loss: 0.147320914268\n",
      "accuracy: 0.96; loss: 0.169957768917\n",
      "accuracy: 0.9575; loss: 0.124809089005\n",
      "accuracy: 0.965; loss: 0.113780136704\n",
      "accuracy: 0.9625; loss: 0.143540569246\n",
      "accuracy: 0.99; loss: 0.0374176767468\n",
      "accuracy: 0.975; loss: 0.107393648624\n",
      "accuracy: 0.985; loss: 0.072779918611\n",
      "accuracy: 0.9875; loss: 0.0572312253714\n",
      "accuracy: 0.96; loss: 0.0984636825323\n",
      "accuracy: 0.97; loss: 0.103904112279\n",
      "accuracy: 0.975; loss: 0.0994454216957\n",
      "accuracy: 0.97; loss: 0.0805179363489\n",
      "accuracy: 0.965; loss: 0.141699741185\n",
      "accuracy: 0.9775; loss: 0.0633412128687\n",
      "accuracy: 0.97; loss: 0.099305998981\n",
      "accuracy: 0.9675; loss: 0.0756715789437\n"
     ]
    }
   ],
   "source": [
    "class MLP(chainer.Chain):\n",
    "\n",
    "    def __init__(self, n_units, n_out):\n",
    "        super(MLP, self).__init__()\n",
    "        with self.init_scope():\n",
    "            # the size of the inputs to each layer will be inferred\n",
    "            self.l1 = L.Linear(None, n_units)  # n_in -> n_units\n",
    "            self.l2 = L.Linear(None, n_units)  # n_units -> n_units\n",
    "            self.l3 = L.Linear(None, n_out)  # n_units -> n_out\n",
    "\n",
    "    def __call__(self, x):\n",
    "        # *** YOUR CODE HERE TO BUILD AN MLP W/ self.l1, self.l2, self.l3 ***\n",
    "\n",
    "        output_l1 = F.relu(self.l1(x))\n",
    "        output_l2 = F.relu(self.l2(output_l1))\n",
    "        output_l3 = self.l3(output_l2)\n",
    "        return output_l3\n",
    "run(MLP(200, 10))"
   ]
  },
  {
   "cell_type": "markdown",
   "metadata": {},
   "source": [
    "Next you should try to implement logging test loss and see if the model is overfitting."
   ]
  },
  {
   "cell_type": "code",
   "execution_count": 84,
   "metadata": {},
   "outputs": [
    {
     "name": "stdout",
     "output_type": "stream",
     "text": [
      "Iteration 0 accuracy: 0.125; loss: 2.30765652657\n",
      "Iteration 300 accuracy: 0.84875; loss: 0.617568875551\n",
      "Iteration 600 accuracy: 0.91625; loss: 0.366900223494\n",
      "Iteration 900 accuracy: 0.91125; loss: 0.318489048481\n",
      "Iteration 1200 accuracy: 0.9125; loss: 0.285041533709\n",
      "Iteration 1500 accuracy: 0.9275; loss: 0.234515094459\n",
      "Iteration 1800 accuracy: 0.925; loss: 0.274771033525\n",
      "Iteration 0 accuracy: 0.94625; loss: 0.216394751668\n",
      "Iteration 300 accuracy: 0.93; loss: 0.228272114694\n",
      "Iteration 600 accuracy: 0.93625; loss: 0.234729062915\n",
      "Iteration 900 accuracy: 0.945; loss: 0.185239213407\n",
      "Iteration 1200 accuracy: 0.94625; loss: 0.203948507905\n",
      "Iteration 1500 accuracy: 0.93125; loss: 0.203356045485\n",
      "Iteration 1800 accuracy: 0.95; loss: 0.17414855212\n",
      "Iteration 0 accuracy: 0.95625; loss: 0.164111453295\n",
      "Iteration 300 accuracy: 0.955; loss: 0.157332322598\n",
      "Iteration 600 accuracy: 0.95375; loss: 0.177555956542\n",
      "Iteration 900 accuracy: 0.9575; loss: 0.137004435062\n",
      "Iteration 1200 accuracy: 0.95125; loss: 0.15705568254\n",
      "Iteration 1500 accuracy: 0.94375; loss: 0.155565977395\n",
      "Iteration 1800 accuracy: 0.95; loss: 0.17893301636\n",
      "Iteration 0 accuracy: 0.9575; loss: 0.165310924649\n",
      "Iteration 300 accuracy: 0.97125; loss: 0.113665506989\n",
      "Iteration 600 accuracy: 0.9625; loss: 0.129797542095\n",
      "Iteration 900 accuracy: 0.96375; loss: 0.108240382373\n",
      "Iteration 1200 accuracy: 0.9575; loss: 0.127768003345\n",
      "Iteration 1500 accuracy: 0.96875; loss: 0.11669731468\n",
      "Iteration 1800 accuracy: 0.96; loss: 0.146785371304\n",
      "Iteration 0 accuracy: 0.96875; loss: 0.114596071243\n",
      "Iteration 300 accuracy: 0.9625; loss: 0.124653815627\n",
      "Iteration 600 accuracy: 0.97125; loss: 0.104722819924\n",
      "Iteration 900 accuracy: 0.9725; loss: 0.101085991412\n",
      "Iteration 1200 accuracy: 0.96375; loss: 0.10240321815\n",
      "Iteration 1500 accuracy: 0.96125; loss: 0.124968591928\n",
      "Iteration 1800 accuracy: 0.9675; loss: 0.10971952498\n"
     ]
    },
    {
     "data": {
      "text/plain": [
       "[<matplotlib.lines.Line2D at 0x7fadbe455a20>]"
      ]
     },
     "execution_count": 84,
     "metadata": {},
     "output_type": "execute_result"
    },
    {
     "data": {
      "image/png": "[encoded data removed]",
      "text/plain": [
       "<Figure size 432x288 with 1 Axes>"
      ]
     },
     "metadata": {
      "needs_background": "light"
     },
     "output_type": "display_data"
    }
   ],
   "source": [
    "def better_run(model, shuffle, batchsize=32, num_epochs=5):\n",
    "\n",
    "    # modify learning rate here\n",
    "    optimizer = chainer.optimizers.Adam(alpha=0.0001) # we will use chainer's Adam implementation instead of writing our own gradient based optimization\n",
    "    optimizer.setup(model)\n",
    "    \n",
    "    stats = defaultdict(lambda: deque(maxlen=25))\n",
    "    losses = []\n",
    "    accs = []\n",
    "    \n",
    "    for epoch in range(num_epochs):\n",
    "        train_iter = chainer.iterators.SerialIterator(train, batchsize, repeat=False, shuffle=shuffle)\n",
    "        for itr, batch in enumerate(train_iter):\n",
    "            xs = np.concatenate([datum[0][None, :] for datum in batch])\n",
    "            ys = np.array([datum[1] for datum in batch])\n",
    "\n",
    "            logits = model(xs)\n",
    "\n",
    "            loss = F.softmax_cross_entropy(logits, ys)\n",
    "            model.cleargrads()\n",
    "            loss.backward()\n",
    "            optimizer.update()\n",
    "            \n",
    "            # calculate stats\n",
    "            stats[\"loss\"].append(float(loss.data))\n",
    "            stats[\"accuracy\"].append(float((logits.data.argmax(1) == ys).sum() / batchsize))\n",
    "            if itr % 300 == 0:\n",
    "                test_iter = chainer.iterators.SerialIterator(test, batchsize, repeat=False, shuffle=False)\n",
    "                # *** YOUR CODE implement logging of stats on test set ***\n",
    "                losses.append(np.mean(stats[\"loss\"]))\n",
    "                print(\"Iteration\", itr, \"; \".join(\"%s: %s\" % (k, np.mean(vs)) for k, vs in stats.items()))\n",
    "                \n",
    "    return losses\n",
    "    \n",
    "#stats = run(MLP(200, 10))\n",
    "#stats = run(L.Linear(None, 10))\n",
    "losses = better_run(MLP(200, 10), shuffle=True)\n",
    "\n",
    "fig, ax = plt.subplots(constrained_layout=True)\n",
    "ax.set_title(\"Learning Curve\")\n",
    "ax.plot(losses)"
   ]
  },
  {
   "cell_type": "markdown",
   "metadata": {},
   "source": [
    "Try different variants!\n",
    "\n",
    "- Does using a ConvNet improve performance (reduce overfitting?)\n",
    "- Try changing the learning rate and observe the effect\n",
    "- Does the model train if you give it correlated gradients? (consecutively sample many batches of \"1\", then many batches of \"2\", ... etc"
   ]
  },
  {
   "cell_type": "code",
   "execution_count": 85,
   "metadata": {},
   "outputs": [],
   "source": [
    "# sort train\n",
    "train = sorted(train, key=lambda x: x[1])"
   ]
  },
  {
   "cell_type": "code",
   "execution_count": 86,
   "metadata": {},
   "outputs": [
    {
     "name": "stdout",
     "output_type": "stream",
     "text": [
      "Iteration 0 accuracy: 0.0; loss: 2.37376642227\n",
      "Iteration 300 accuracy: 1.0; loss: 0.0193695241213\n",
      "Iteration 600 accuracy: 0.23875; loss: 4.48973956943\n",
      "Iteration 900 accuracy: 1.0; loss: 0.0163374987245\n",
      "Iteration 1200 accuracy: 1.0; loss: 0.172397643924\n",
      "Iteration 1500 accuracy: 1.0; loss: 0.00670961618423\n",
      "Iteration 1800 accuracy: 1.0; loss: 0.0561146466434\n",
      "Iteration 0 accuracy: 0.96; loss: 0.287567922771\n",
      "Iteration 300 accuracy: 0.9975; loss: 0.0174866847694\n",
      "Iteration 600 accuracy: 0.435; loss: 2.06886228114\n",
      "Iteration 900 accuracy: 1.0; loss: 0.00873975798488\n",
      "Iteration 1200 accuracy: 1.0; loss: 0.0246420493722\n",
      "Iteration 1500 accuracy: 1.0; loss: 0.00660650826991\n",
      "Iteration 1800 accuracy: 1.0; loss: 0.0185620801896\n",
      "Iteration 0 accuracy: 0.9625; loss: 0.0994022443146\n",
      "Iteration 300 accuracy: 0.9925; loss: 0.0245737098157\n",
      "Iteration 600 accuracy: 0.6425; loss: 1.14474955767\n",
      "Iteration 900 accuracy: 1.0; loss: 0.00516285896301\n",
      "Iteration 1200 accuracy: 0.9975; loss: 0.0148991868272\n",
      "Iteration 1500 accuracy: 1.0; loss: 0.00379910744727\n",
      "Iteration 1800 accuracy: 1.0; loss: 0.0109918636084\n",
      "Iteration 0 accuracy: 0.98; loss: 0.0559238086641\n",
      "Iteration 300 accuracy: 0.9925; loss: 0.0260162897408\n",
      "Iteration 600 accuracy: 0.73625; loss: 0.773342000246\n",
      "Iteration 900 accuracy: 1.0; loss: 0.00359858296812\n",
      "Iteration 1200 accuracy: 0.99625; loss: 0.0128990229964\n",
      "Iteration 1500 accuracy: 1.0; loss: 0.00285459740087\n",
      "Iteration 1800 accuracy: 1.0; loss: 0.00753324557096\n",
      "Iteration 0 accuracy: 0.98; loss: 0.0475398308039\n",
      "Iteration 300 accuracy: 0.9925; loss: 0.0235513784736\n",
      "Iteration 600 accuracy: 0.7875; loss: 0.645916767716\n",
      "Iteration 900 accuracy: 1.0; loss: 0.00261660858989\n",
      "Iteration 1200 accuracy: 0.9975; loss: 0.00997190386057\n",
      "Iteration 1500 accuracy: 1.0; loss: 0.00210100889206\n",
      "Iteration 1800 accuracy: 1.0; loss: 0.00570516295731\n"
     ]
    },
    {
     "data": {
      "text/plain": [
       "[<matplotlib.lines.Line2D at 0x7fadbe5d4898>]"
      ]
     },
     "execution_count": 86,
     "metadata": {},
     "output_type": "execute_result"
    },
    {
     "data": {
      "image/png": "[encoded data removed]",
      "text/plain": [
       "<Figure size 432x288 with 1 Axes>"
      ]
     },
     "metadata": {
      "needs_background": "light"
     },
     "output_type": "display_data"
    }
   ],
   "source": [
    "# Here is is really overfitting quite hard. After every new number the loss jumps again.\n",
    "\n",
    "losses = better_run(MLP(200, 10), shuffle=False)\n",
    "\n",
    "fig, ax = plt.subplots(constrained_layout=True)\n",
    "ax.set_title(\"Learning Curve\")\n",
    "ax.plot(losses)"
   ]
  },
  {
   "cell_type": "code",
   "execution_count": null,
   "metadata": {},
   "outputs": [],
   "source": []
  }
 ],
 "metadata": {
  "kernelspec": {
   "display_name": "Python 3",
   "language": "python",
   "name": "python3"
  },
  "language_info": {
   "codemirror_mode": {
    "name": "ipython",
    "version": 3
   },
   "file_extension": ".py",
   "mimetype": "text/x-python",
   "name": "python",
   "nbconvert_exporter": "python",
   "pygments_lexer": "ipython3",
   "version": "3.5.3"
  }
 },
 "nbformat": 4,
 "nbformat_minor": 1
}
